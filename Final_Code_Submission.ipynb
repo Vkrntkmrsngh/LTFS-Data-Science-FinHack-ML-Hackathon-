{
 "cells": [
  {
   "cell_type": "code",
   "execution_count": null,
   "metadata": {
    "colab": {},
    "colab_type": "code",
    "id": "WAQawFqeWh_S"
   },
   "outputs": [],
   "source": [
    "import  pandas as pd\n",
    "import numpy as np\n",
    "import seaborn as sns\n",
    "from matplotlib import pyplot as plt\n",
    "%matplotlib inline\n",
    "import datetime\n",
    "import re"
   ]
  },
  {
   "cell_type": "code",
   "execution_count": null,
   "metadata": {
    "colab": {},
    "colab_type": "code",
    "id": "gX7JAAXGWh_Y"
   },
   "outputs": [],
   "source": [
    "pd.set_option('display.max_columns', None)\n",
    "pd.set_option('display.max_rows', None)"
   ]
  },
  {
   "cell_type": "code",
   "execution_count": null,
   "metadata": {
    "colab": {},
    "colab_type": "code",
    "id": "BSumeD80Wh_c"
   },
   "outputs": [],
   "source": [
    "df_train=pd.read_csv(\"train.csv\",index_col=\"UniqueID\")\n",
    "df_test=pd.read_csv(\"test.csv\",index_col=\"UniqueID\")\n",
    "df_test[\"loan_default\"]=-999\n",
    "df=pd.concat([df_train,df_test],axis=0,sort=False)"
   ]
  },
  {
   "cell_type": "code",
   "execution_count": null,
   "metadata": {
    "colab": {},
    "colab_type": "code",
    "id": "d43wH9woWh_h"
   },
   "outputs": [],
   "source": [
    "df_test_new=pd.read_csv(\"test.csv\",index_col=\"UniqueID\")"
   ]
  },
  {
   "cell_type": "code",
   "execution_count": null,
   "metadata": {
    "colab": {},
    "colab_type": "code",
    "id": "uDkcoJttWh_l"
   },
   "outputs": [],
   "source": [
    "def get_date(date):\n",
    "    try:\n",
    "        date.index(\"-\",0)\n",
    "        if (int(date[6:8])>=19):\n",
    "            date = date[3:5]+\"/\"+date[0:2]+\"/19\"+date[6:8]\n",
    "        else:\n",
    "            date = date[3:5]+\"/\"+date[0:2]+\"/20\"+date[6:8]\n",
    "        return datetime.datetime.strptime(date,\"%m/%d/%Y\").strftime('%m/%d/%Y')\n",
    "    except ValueError:\n",
    "        date = datetime.datetime.strptime(date,\"%m/%d/%Y\").strftime('%m/%d/%Y')\n",
    "    return date\n",
    "\n",
    "vget_date = np.vectorize(get_date)\n",
    "\n",
    "df[\"Date.of.Birth\"]=vget_date(df[\"Date.of.Birth\"])\n",
    "df[\"DisbursalDate\"]=vget_date(df[\"DisbursalDate\"])"
   ]
  },
  {
   "cell_type": "code",
   "execution_count": null,
   "metadata": {
    "colab": {},
    "colab_type": "code",
    "id": "9IDzZSr6Wh_o"
   },
   "outputs": [],
   "source": [
    "def get_date_diff(date1,date2):\n",
    "    date1_out = datetime.datetime.strptime(date1,\"%m/%d/%Y\")\n",
    "    date2_out = datetime.datetime.strptime(date2,\"%m/%d/%Y\")\n",
    "    return (date1_out-date2_out).days/365\n",
    "\n",
    "vget_date_diff=np.vectorize(get_date_diff)\n",
    "\n",
    "df[\"Age\"]=vget_date_diff(df[\"DisbursalDate\"],df[\"Date.of.Birth\"])"
   ]
  },
  {
   "cell_type": "code",
   "execution_count": null,
   "metadata": {
    "colab": {},
    "colab_type": "code",
    "id": "Lini3sbbWh_r"
   },
   "outputs": [],
   "source": [
    "#replace missing values :Employment.Type\n",
    "df['Employment.Type'].fillna('Not employed',inplace=True)\n",
    "# create new column\n",
    "df['Employment.Type'] = df[\"Employment.Type\"].map({'Not employed':0,'Self employed':1, 'Salaried':2})"
   ]
  },
  {
   "cell_type": "code",
   "execution_count": null,
   "metadata": {
    "colab": {},
    "colab_type": "code",
    "id": "wFu22sE4Wh_x"
   },
   "outputs": [],
   "source": [
    "#AVERAGE.ACCT.AGE\n",
    "def get_month(str_t):\n",
    "    try:\n",
    "        yr_ind = str_t.index(\"yrs\",0)\n",
    "        mo_ind = str_t.index(\"mon\",0)\n",
    "        b_ind = str_t.index(\" \",0)\n",
    "        \n",
    "        mon = int(str_t[0:yr_ind])*12+int(str_t[b_ind+1:mo_ind])\n",
    "    except:\n",
    "        mon = 0\n",
    "    \n",
    "    return mon/12\n",
    "\n",
    "vget_month = np.vectorize(get_month)\n",
    "df[\"AVERAGE.ACCT.AGE\"] = vget_month(df[\"AVERAGE.ACCT.AGE\"])"
   ]
  },
  {
   "cell_type": "code",
   "execution_count": null,
   "metadata": {
    "colab": {},
    "colab_type": "code",
    "id": "nu_2iQVAWh_2"
   },
   "outputs": [],
   "source": [
    "#CREDIT.HISTORY.LENGTH\n",
    "df[\"CREDIT.HISTORY.LENGTH\"] = vget_month(df[\"CREDIT.HISTORY.LENGTH\"])"
   ]
  },
  {
   "cell_type": "code",
   "execution_count": null,
   "metadata": {
    "colab": {},
    "colab_type": "code",
    "id": "ujIYAXEAWh_8"
   },
   "outputs": [],
   "source": [
    "#\"Date.of.Birth\",\"DisbursalDate\"\n",
    "df.drop([\"Date.of.Birth\",\"DisbursalDate\",\"MobileNo_Avl_Flag\",\"disbursed_amount\",\"asset_cost\",\"CREDIT.HISTORY.LENGTH\",\"PRI.NO.OF.ACCTS\",\"PRI.ACTIVE.ACCTS\",\"SEC.SANCTIONED.AMOUNT\",\"PRI.SANCTIONED.AMOUNT\",\"PERFORM_CNS.SCORE.DESCRIPTION\",\"SEC.NO.OF.ACCTS\",\"VoterID_flag\"],axis=1,inplace=True)"
   ]
  },
  {
   "cell_type": "code",
   "execution_count": null,
   "metadata": {
    "colab": {},
    "colab_type": "code",
    "id": "DxeR-fjZWiAE"
   },
   "outputs": [],
   "source": [
    "tmp = df[\"loan_default\"]\n",
    "df.drop([\"loan_default\"],axis=1,inplace=True)"
   ]
  },
  {
   "cell_type": "code",
   "execution_count": null,
   "metadata": {
    "colab": {},
    "colab_type": "code",
    "id": "2L9BBzOWWiAG"
   },
   "outputs": [],
   "source": [
    "df = pd.concat([df,tmp],axis=1)"
   ]
  },
  {
   "cell_type": "code",
   "execution_count": null,
   "metadata": {
    "colab": {
     "base_uri": "https://localhost:8080/",
     "height": 571
    },
    "colab_type": "code",
    "id": "84d8udi8WiAI",
    "outputId": "1f10118a-c870-40dc-de26-19c71af72eee"
   },
   "outputs": [],
   "source": [
    "df.info()#branch_id,manufacturer_id,State_ID"
   ]
  },
  {
   "cell_type": "code",
   "execution_count": null,
   "metadata": {
    "colab": {
     "base_uri": "https://localhost:8080/",
     "height": 138
    },
    "colab_type": "code",
    "id": "gCCl2gc6WiAM",
    "outputId": "b3eedc95-2015-4824-db71-ccb0b11a4df9"
   },
   "outputs": [],
   "source": [
    "#one hot encoding of geography column\n",
    "from sklearn.preprocessing import OneHotEncoder\n",
    "onehotencode=OneHotEncoder(categorical_features=[1,3,6])\n",
    "df_new=onehotencode.fit_transform(df)"
   ]
  },
  {
   "cell_type": "code",
   "execution_count": null,
   "metadata": {
    "colab": {
     "base_uri": "https://localhost:8080/",
     "height": 34
    },
    "colab_type": "code",
    "id": "6xlXe7iEWiAP",
    "outputId": "3ac4e56a-6160-4811-d6fd-787458a6497a"
   },
   "outputs": [],
   "source": [
    "type(df_new)"
   ]
  },
  {
   "cell_type": "code",
   "execution_count": null,
   "metadata": {
    "colab": {},
    "colab_type": "code",
    "id": "tmj6LShDWiAT"
   },
   "outputs": [],
   "source": [
    "df=pd.DataFrame(df_new.todense())"
   ]
  },
  {
   "cell_type": "code",
   "execution_count": null,
   "metadata": {
    "colab": {
     "base_uri": "https://localhost:8080/",
     "height": 215
    },
    "colab_type": "code",
    "id": "xf-DQyUiWiAV",
    "outputId": "b865094d-7b6a-4f15-acea-d3fd8db4165b"
   },
   "outputs": [],
   "source": [
    "df.head()#117,120,118"
   ]
  },
  {
   "cell_type": "code",
   "execution_count": null,
   "metadata": {
    "colab": {},
    "colab_type": "code",
    "id": "_u9vcCzNWiAY"
   },
   "outputs": [],
   "source": [
    "df_train = df[df[140]!=-999]"
   ]
  },
  {
   "cell_type": "code",
   "execution_count": null,
   "metadata": {
    "colab": {},
    "colab_type": "code",
    "id": "Zyuft3MsWiAa"
   },
   "outputs": [],
   "source": [
    "df_test = df[df[140]==-999]"
   ]
  },
  {
   "cell_type": "code",
   "execution_count": null,
   "metadata": {
    "colab": {
     "base_uri": "https://localhost:8080/",
     "height": 101
    },
    "colab_type": "code",
    "id": "LKqukFIIWiAd",
    "outputId": "d7ff8e52-4470-4f0b-acc9-b1990ea6861e"
   },
   "outputs": [],
   "source": [
    "X = df_train.iloc[:,0:-1]\n",
    "y = df_train.iloc[:,-1]\n",
    "df.info()"
   ]
  },
  {
   "cell_type": "code",
   "execution_count": null,
   "metadata": {
    "colab": {
     "base_uri": "https://localhost:8080/",
     "height": 235
    },
    "colab_type": "code",
    "id": "_C-PP-H6WiAf",
    "outputId": "aefd64ae-c1ec-4f63-d236-3c39c8023588"
   },
   "outputs": [],
   "source": [
    "from sklearn.preprocessing import StandardScaler\n",
    "ss = StandardScaler()\n",
    "ss.fit_transform(X)"
   ]
  },
  {
   "cell_type": "code",
   "execution_count": null,
   "metadata": {
    "colab": {},
    "colab_type": "code",
    "id": "0Snic9_GWiAj"
   },
   "outputs": [],
   "source": [
    "from sklearn.model_selection import train_test_split\n",
    "X_train,X_test,y_train,y_test = train_test_split(X,y,test_size=0.1,random_state=0)"
   ]
  },
  {
   "cell_type": "code",
   "execution_count": null,
   "metadata": {
    "colab": {},
    "colab_type": "code",
    "id": "dLHLhKm1WiAk"
   },
   "outputs": [],
   "source": [
    "from lightgbm import LGBMClassifier\n",
    "import lightgbm as lgb\n",
    "from sklearn.model_selection import GridSearchCV"
   ]
  },
  {
   "cell_type": "code",
   "execution_count": null,
   "metadata": {
    "colab": {},
    "colab_type": "code",
    "id": "BGy7koepfbIn"
   },
   "outputs": [],
   "source": [
    "categorical_features=[117,118,120]"
   ]
  },
  {
   "cell_type": "code",
   "execution_count": null,
   "metadata": {},
   "outputs": [],
   "source": [
    "parameters={'reg_alpha':[0.1,0.5],\n",
    "           'subsample':[0.8,0.9],\n",
    "           'num_leaves':[50,64],\n",
    "           'subsample_for_bin':[10000,20000]}"
   ]
  },
  {
   "cell_type": "code",
   "execution_count": null,
   "metadata": {
    "colab": {},
    "colab_type": "code",
    "id": "CBtGgeCP-Wec"
   },
   "outputs": [],
   "source": [
    "lr=LGBMClassifier(n_estimators=10000, objective = 'binary',\n",
    "                                   class_weight = 'balanced', learning_rate = 0.001,\n",
    "                                 reg_lambda = 0.1, \n",
    "                                   random_state = 50)\n"
   ]
  },
  {
   "cell_type": "code",
   "execution_count": null,
   "metadata": {
    "colab": {},
    "colab_type": "code",
    "id": "DJNbyYwgWiA1"
   },
   "outputs": [],
   "source": [
    "grid_obj = GridSearchCV(lr, parameters)"
   ]
  },
  {
   "cell_type": "code",
   "execution_count": null,
   "metadata": {
    "colab": {},
    "colab_type": "code",
    "id": "TJ_NUrULWiA3"
   },
   "outputs": [],
   "source": [
    "grid_obj = grid_obj.fit(X_train, y_train)"
   ]
  },
  {
   "cell_type": "code",
   "execution_count": null,
   "metadata": {
    "colab": {},
    "colab_type": "code",
    "id": "UmPXCCBBWiA4"
   },
   "outputs": [],
   "source": [
    "clf = grid_obj.best_estimator_"
   ]
  },
  {
   "cell_type": "code",
   "execution_count": null,
   "metadata": {
    "colab": {},
    "colab_type": "code",
    "id": "1LTU3nGDWiA6"
   },
   "outputs": [],
   "source": [
    "# Fit the best algorithm to the data. \n",
    "clf.fit(X_train, y_train)"
   ]
  },
  {
   "cell_type": "code",
   "execution_count": null,
   "metadata": {
    "colab": {},
    "colab_type": "code",
    "id": "CNgKeFflWiA9"
   },
   "outputs": [],
   "source": [
    "y_predict=clf.predict(X_test)\n",
    "print(y_predict[0:20])\n",
    "#vround=np.vectorize(round)\n",
    "#y_predict=vround(y_predict,0)"
   ]
  },
  {
   "cell_type": "code",
   "execution_count": null,
   "metadata": {
    "colab": {},
    "colab_type": "code",
    "id": "S46Ez3v0WiA_"
   },
   "outputs": [],
   "source": [
    "from sklearn.metrics import roc_auc_score\n",
    "roc_value=roc_auc_score(y_test,y_predict)\n",
    "print(roc_value)"
   ]
  },
  {
   "cell_type": "code",
   "execution_count": null,
   "metadata": {
    "colab": {},
    "colab_type": "code",
    "id": "6kX66YaNWiBH",
    "outputId": "0077298b-f7e0-4be8-c296-d0f1611bf341"
   },
   "outputs": [],
   "source": [
    "df_test.drop(140,axis=1,inplace=True)"
   ]
  },
  {
   "cell_type": "code",
   "execution_count": null,
   "metadata": {
    "colab": {},
    "colab_type": "code",
    "id": "FTyTiIIPWiBL"
   },
   "outputs": [],
   "source": [
    "X_target=ss.transform(df_test)"
   ]
  },
  {
   "cell_type": "code",
   "execution_count": null,
   "metadata": {
    "colab": {},
    "colab_type": "code",
    "id": "5mrQ4iHSWiBS"
   },
   "outputs": [],
   "source": [
    "y_target=clf.predict(df_test)"
   ]
  },
  {
   "cell_type": "code",
   "execution_count": null,
   "metadata": {
    "colab": {
     "base_uri": "https://localhost:8080/",
     "height": 50
    },
    "colab_type": "code",
    "id": "QsDGH0IsWiBc",
    "outputId": "2b0c0c03-2ed8-4601-e6d4-2963d1233e0c"
   },
   "outputs": [],
   "source": [
    "y_target1=pd.DataFrame(y_target)\n",
    "y_target1[y_target1[0]==1].count()"
   ]
  },
  {
   "cell_type": "code",
   "execution_count": null,
   "metadata": {
    "colab": {},
    "colab_type": "code",
    "id": "HPzJo0pBWiBm"
   },
   "outputs": [],
   "source": [
    "pd.DataFrame({\"UniqueID\":df_test_new.index,\"loan_default\":y_target}).to_csv(\"submission_without_cat_col.csv\")"
   ]
  },
  {
   "cell_type": "code",
   "execution_count": null,
   "metadata": {},
   "outputs": [],
   "source": []
  }
 ],
 "metadata": {
  "colab": {
   "collapsed_sections": [],
   "name": "latest_version.ipynb",
   "provenance": [],
   "version": "0.3.2"
  },
  "kernelspec": {
   "display_name": "Python 3",
   "language": "python",
   "name": "python3"
  },
  "language_info": {
   "codemirror_mode": {
    "name": "ipython",
    "version": 3
   },
   "file_extension": ".py",
   "mimetype": "text/x-python",
   "name": "python",
   "nbconvert_exporter": "python",
   "pygments_lexer": "ipython3",
   "version": "3.7.1"
  }
 },
 "nbformat": 4,
 "nbformat_minor": 1
}
